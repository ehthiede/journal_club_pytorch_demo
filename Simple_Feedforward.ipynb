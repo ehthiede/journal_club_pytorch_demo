{
 "cells": [
  {
   "cell_type": "markdown",
   "metadata": {},
   "source": [
    "# Simple Feedforward Example"
   ]
  },
  {
   "cell_type": "code",
   "execution_count": 1,
   "metadata": {},
   "outputs": [],
   "source": [
    "# Crap to prevent me from messing the code up for Python 3 people\n",
    "from __future__ import division\n",
    "from __future__ import print_function\n",
    "\n",
    "# Regular Python Imports\n",
    "import numpy as np\n",
    "import matplotlib.pyplot as plt\n",
    "import time\n",
    "from sklearn import datasets # Some nice datasets to use\n",
    "\n",
    "%matplotlib inline\n",
    "\n",
    "# Torch imports\n",
    "import torch\n",
    "from torch.autograd import Variable, Function\n",
    "import torch.nn as nn\n",
    "import torch.optim as optim\n",
    "import torch.utils.data as pytorch_utils\n"
   ]
  },
  {
   "cell_type": "markdown",
   "metadata": {},
   "source": [
    "## Define the Neural Network Architecture"
   ]
  },
  {
   "cell_type": "code",
   "execution_count": 2,
   "metadata": {},
   "outputs": [],
   "source": [
    "class FeedForwardNN(nn.Module):\n",
    "    \"\"\"\n",
    "    Simple fully connected, feedforward network.\n",
    "    This should be ready to go for regression, \n",
    "    but for classification an additional softmax will need to be added on top.\n",
    "    \n",
    "    Parameters\n",
    "    ----------\n",
    "    layer_sizes : iterable of ints\n",
    "        the size of each layer\n",
    "    nonlinearity : class\n",
    "        Type of nonlinearity to us, e.g. \"nn.ReLU\" or \"nn.Tanh\".\n",
    "        This does NOT an initialized object, i.e. this\n",
    "        argument does NOT an input of the form \"nn.Relu()\".\n",
    "    \"\"\"\n",
    "    def __init__(self,  layer_sizes, nonlinearity=None):\n",
    "        super(FeedForwardNN, self).__init__() # Python class stuff\n",
    "\n",
    "        if nonlinearity is None: # Set the default nonlinearity.\n",
    "            nonlinearity = nn.ReLU\n",
    "\n",
    "        # Build the layers\n",
    "        nlayers = len(layer_sizes)\n",
    "        self.layers = []\n",
    "        for i in range(nlayers - 1):\n",
    "            linear = nn.Linear(layer_sizes[i], layer_sizes[i+1]) \n",
    "            self.layers.append(linear)\n",
    "            self.layers.append(nonlinearity())\n",
    "        \n",
    "        # Put it together to make a neural network using nn.Sequential\n",
    "        self.feed_forward = nn.Sequential(*self.layers)\n",
    "\n",
    "    def forward(self, x):\n",
    "        # Encode, then decode the network.\n",
    "        x = self.feed_forward(x)\n",
    "        return x\n",
    " "
   ]
  },
  {
   "cell_type": "markdown",
   "metadata": {},
   "source": [
    "## Set Parameters"
   ]
  },
  {
   "cell_type": "code",
   "execution_count": 3,
   "metadata": {},
   "outputs": [],
   "source": [
    "# Neural Network Parameters\n",
    "hidden_layer_sizes = [5]  # Number of hidden layers to use.  More can be added by adding to this list.\n",
    "nonlinearity = nn.LeakyReLU  # Nonlinear function to use.\n",
    "\n",
    "# Training parameters\n",
    "train_frac = 0.7  # Fraction of training points to use\n",
    "epochs = 2000  # Number of passes to do over the dataset..\n",
    "b_size = 32  # Number of datapoints to use in each step of the dynamics\n",
    "learning_rate = 0.01  # Learning rate (step-size for optimizer.)\n",
    "print_frequency = 100  # How often to print the loss."
   ]
  },
  {
   "cell_type": "markdown",
   "metadata": {},
   "source": [
    "## Prep the  Data"
   ]
  },
  {
   "cell_type": "markdown",
   "metadata": {},
   "source": [
    "#### Load the iris dataset"
   ]
  },
  {
   "cell_type": "code",
   "execution_count": 4,
   "metadata": {},
   "outputs": [],
   "source": [
    "iris_dataset = datasets.load_iris()\n",
    "X = iris_dataset.data\n",
    "y = iris_dataset.target\n",
    "N, n_input = X.shape # Number of points, number of input dimensions \n",
    "n_classes = np.max(y) + 1 # Number of classes"
   ]
  },
  {
   "cell_type": "markdown",
   "metadata": {},
   "source": [
    "#### Do a test-train split.  "
   ]
  },
  {
   "cell_type": "code",
   "execution_count": 5,
   "metadata": {},
   "outputs": [],
   "source": [
    "N_train = int(train_frac * N)\n",
    "indices = np.arange(N)\n",
    "np.random.shuffle(indices)\n",
    "train_ndxs = indices[:N_train]\n",
    "test_ndxs = indices[N_train:]\n",
    "X_train = X[train_ndxs]\n",
    "y_train = y[train_ndxs]\n",
    "X_test = X[test_ndxs]\n",
    "y_test =y[test_ndxs]"
   ]
  },
  {
   "cell_type": "markdown",
   "metadata": {},
   "source": [
    "#### Move everything into pytorch data loaders"
   ]
  },
  {
   "cell_type": "code",
   "execution_count": 6,
   "metadata": {},
   "outputs": [],
   "source": [
    "# Typecast to pytorch tensors.\n",
    "X_train_var = torch.from_numpy(X_train).float()\n",
    "y_train_var = torch.from_numpy(y_train).long()\n",
    "X_test_var = torch.from_numpy(X_test).float()\n",
    "y_test_var = torch.from_numpy(y_test).long()\n",
    "\n",
    "# Construct Tensor Datasets.  This is bundles a collection of tensor together for easy indexing\n",
    "# The i'th element gives the i'th datapoint.\n",
    "data_train = pytorch_utils.TensorDataset(X_train_var, y_train_var)\n",
    "data_test = pytorch_utils.TensorDataset(X_test_var, y_test_var)\n",
    "\n",
    "# This is an iterable we can iterate over to get a batches of data.  \n",
    "train_loader = pytorch_utils.DataLoader(data_train, batch_size=b_size, shuffle=True)"
   ]
  },
  {
   "cell_type": "markdown",
   "metadata": {},
   "source": [
    "## Train the network"
   ]
  },
  {
   "cell_type": "markdown",
   "metadata": {},
   "source": [
    "#### Initialize the Neural Network"
   ]
  },
  {
   "cell_type": "code",
   "execution_count": 7,
   "metadata": {},
   "outputs": [],
   "source": [
    "layer_sizes = [n_input] + hidden_layer_sizes + [n_classes]\n",
    "model = FeedForwardNN(layer_sizes, nonlinearity)\n",
    "normalizing_layer = nn.LogSoftmax() # We need a softmax on top of FeedForwardNN because we are doing classification."
   ]
  },
  {
   "cell_type": "markdown",
   "metadata": {},
   "source": [
    "#### Initialize Loss"
   ]
  },
  {
   "cell_type": "code",
   "execution_count": 8,
   "metadata": {},
   "outputs": [],
   "source": [
    "loss_fxn = nn.NLLLoss()"
   ]
  },
  {
   "cell_type": "markdown",
   "metadata": {},
   "source": [
    "#### Initialize the Optimizer"
   ]
  },
  {
   "cell_type": "code",
   "execution_count": 9,
   "metadata": {},
   "outputs": [],
   "source": [
    "optimizer = optim.Adam(model.parameters(),lr=learning_rate)\n",
    "loss_train = []"
   ]
  },
  {
   "cell_type": "code",
   "execution_count": 10,
   "metadata": {},
   "outputs": [
    {
     "name": "stderr",
     "output_type": "stream",
     "text": [
      "/home/erik/anaconda/lib/python2.7/site-packages/ipykernel_launcher.py:12: UserWarning: Implicit dimension choice for log_softmax has been deprecated. Change the call to include dim=X as an argument.\n",
      "  if sys.path[0] == '':\n"
     ]
    },
    {
     "name": "stdout",
     "output_type": "stream",
     "text": [
      "Epoch: 0, Train Loss: 1.107685\n",
      "Epoch: 100, Train Loss: 0.079020\n",
      "Epoch: 200, Train Loss: 0.048919\n",
      "Epoch: 300, Train Loss: 0.046716\n",
      "Epoch: 400, Train Loss: 0.037431\n",
      "Epoch: 500, Train Loss: 0.034458\n",
      "Epoch: 600, Train Loss: 0.030033\n",
      "Epoch: 700, Train Loss: 0.040404\n",
      "Epoch: 800, Train Loss: 0.063405\n",
      "Epoch: 900, Train Loss: 0.027431\n",
      "Epoch: 1000, Train Loss: 0.026912\n",
      "Epoch: 1100, Train Loss: 0.064934\n",
      "Epoch: 1200, Train Loss: 0.026601\n",
      "Epoch: 1300, Train Loss: 0.031744\n",
      "Epoch: 1400, Train Loss: 0.030774\n",
      "Epoch: 1500, Train Loss: 0.028664\n",
      "Epoch: 1600, Train Loss: 0.029104\n",
      "Epoch: 1700, Train Loss: 0.061948\n",
      "Epoch: 1800, Train Loss: 0.024158\n",
      "Epoch: 1900, Train Loss: 0.029046\n"
     ]
    }
   ],
   "source": [
    "for epoch in range(epochs):\n",
    "    epoch_loss = []\n",
    "    for i, data in enumerate(train_loader):\n",
    "        optimizer.zero_grad() # Cleans out any old gradient info.\n",
    "\n",
    "        # Typecast to Variable, the datatype used for backprop\n",
    "        X_i = Variable(data[0], requires_grad=True)\n",
    "        y_i = Variable(data[1], requires_grad=False)\n",
    "        \n",
    "        # Run the model forward\n",
    "        Y_i = model(X_i)\n",
    "        Y_i = normalizing_layer(Y_i) # Not all the computation needs to happen inside the net object!\n",
    "        \n",
    "        # Evaluate loss and do backprop.\n",
    "        loss = loss_fxn(Y_i, y_i)\n",
    "        loss.backward()\n",
    "        \n",
    "        # Run the optimizer.\n",
    "        optimizer.step()  \n",
    "        loss_train.append(loss)\n",
    "        epoch_loss.append(loss)\n",
    "    avg_epoch_loss = sum(epoch_loss) / len(epoch_loss)\n",
    "\n",
    "    if epoch % print_frequency == 0:\n",
    "        print('Epoch: %d, Train Loss: %.6f' % (epoch, avg_epoch_loss))"
   ]
  },
  {
   "cell_type": "markdown",
   "metadata": {},
   "source": [
    "## Plot the results"
   ]
  },
  {
   "cell_type": "markdown",
   "metadata": {},
   "source": [
    "#### Get results for all datapoints in numpy"
   ]
  },
  {
   "cell_type": "code",
   "execution_count": 11,
   "metadata": {},
   "outputs": [
    {
     "name": "stderr",
     "output_type": "stream",
     "text": [
      "/home/erik/anaconda/lib/python2.7/site-packages/ipykernel_launcher.py:3: UserWarning: Implicit dimension choice for log_softmax has been deprecated. Change the call to include dim=X as an argument.\n",
      "  This is separate from the ipykernel package so we can avoid doing imports until\n",
      "/home/erik/anaconda/lib/python2.7/site-packages/ipykernel_launcher.py:5: UserWarning: Implicit dimension choice for log_softmax has been deprecated. Change the call to include dim=X as an argument.\n",
      "  \"\"\"\n"
     ]
    }
   ],
   "source": [
    "# Run all data through the network.\n",
    "all_train_data = Variable(X_train_var)\n",
    "Y_train_var = normalizing_layer(model(all_train_data))\n",
    "all_test_data = Variable(X_test_var)\n",
    "Y_test_var = normalizing_layer(model(all_test_data))\n",
    "\n",
    "# Typecast back to numpy for plotting\n",
    "Y_train = np.exp(Y_train_var.data.numpy())\n",
    "Y_test = np.exp(Y_test_var.data.numpy())\n",
    "nn_labels_train = np.argmax(np.exp(Y_train), axis=1)\n",
    "nn_labels_test = np.argmax(np.exp(Y_test), axis=1)"
   ]
  },
  {
   "cell_type": "markdown",
   "metadata": {},
   "source": [
    "#### Plot the results"
   ]
  },
  {
   "cell_type": "code",
   "execution_count": 13,
   "metadata": {},
   "outputs": [
    {
     "data": {
      "text/plain": [
       "Text(0,0.5,u'petal width (cm)')"
      ]
     },
     "execution_count": 13,
     "metadata": {},
     "output_type": "execute_result"
    },
    {
     "data": {
      "image/png": "[encoded data removed]",
      "text/plain": [
       "<matplotlib.figure.Figure at 0x7f9f5c13a950>"
      ]
     },
     "metadata": {},
     "output_type": "display_data"
    }
   ],
   "source": [
    "fig, axes = plt.subplots(2, 2, sharex=True, sharey=True, figsize=(10, 8))\n",
    "axes[0, 0].scatter(X_train[:,1], X_train[:,3], c=nn_labels_train, label='NN Train')\n",
    "axes[0, 1].scatter(X_train[:,1], X_train[:,3], c=y_train, label='True Train')\n",
    "axes[1 ,0].scatter(X_test[:,1], X_test[:,3], c=nn_labels_test, label='NN Test')\n",
    "axes[1, 1].scatter(X_test[:,1], X_test[:,3], c=y_test, label='True Test')\n",
    "\n",
    "axf = np.array(axes).ravel()\n",
    "for ax in axf:\n",
    "    ax.legend(loc='upper right')\n",
    "\n",
    "axes[1, 0].set_xlabel(iris_dataset.feature_names[1])\n",
    "axes[1, 0].set_ylabel(iris_dataset.feature_names[3])"
   ]
  },
  {
   "cell_type": "code",
   "execution_count": null,
   "metadata": {},
   "outputs": [],
   "source": []
  }
 ],
 "metadata": {
  "kernelspec": {
   "display_name": "Python 2",
   "language": "python",
   "name": "python2"
  },
  "language_info": {
   "codemirror_mode": {
    "name": "ipython",
    "version": 2
   },
   "file_extension": ".py",
   "mimetype": "text/x-python",
   "name": "python",
   "nbconvert_exporter": "python",
   "pygments_lexer": "ipython2",
   "version": "2.7.14"
  }
 },
 "nbformat": 4,
 "nbformat_minor": 2
}
